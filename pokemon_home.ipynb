{
 "cells": [
  {
   "attachments": {},
   "cell_type": "markdown",
   "metadata": {},
   "source": [
    "[![Open In Colab](https://colab.research.google.com/assets/colab-badge.svg)](https://colab.research.google.com/github/okuokuch/pokemon_home_sv/blob/main/pokemon_home.ipynb)"
   ]
  },
  {
   "attachments": {},
   "cell_type": "markdown",
   "metadata": {},
   "source": [
    "## ポケモンHOMEのSVランクバトルデータ取得\n",
    "Google Colab上でポケモンHOMEのデータを取得しCSVファイルとして保存することができます。  \n",
    "Google Driveと連携することで、Drive上にCSVファイルを保存することができます。"
   ]
  },
  {
   "attachments": {},
   "cell_type": "markdown",
   "metadata": {},
   "source": [
    "GitHubからデータを取得"
   ]
  },
  {
   "cell_type": "code",
   "execution_count": null,
   "metadata": {},
   "outputs": [],
   "source": [
    "!git clone https://github.com/okuokuch/pokemon_home_sv.git"
   ]
  },
  {
   "cell_type": "code",
   "execution_count": 1,
   "metadata": {},
   "outputs": [],
   "source": [
    "#データを取得したいシーズンとルールを設定\n",
    "season = 1 #@param {type:\"integer\"}\n",
    "rule = \"single\" #@param [\"single\", \"duble\"]"
   ]
  },
  {
   "cell_type": "code",
   "execution_count": 2,
   "metadata": {},
   "outputs": [
    {
     "name": "stderr",
     "output_type": "stream",
     "text": [
      "100%|██████████| 58/58 [00:00<00:00, 29685.13it/s]\n",
      "100%|██████████| 58/58 [00:00<00:00, 13407.72it/s]\n",
      "100%|██████████| 55/55 [00:00<00:00, 27541.39it/s]\n",
      "100%|██████████| 57/57 [00:00<00:00, 18534.41it/s]\n",
      "100%|██████████| 114/114 [00:00<00:00, 22665.47it/s]\n",
      "100%|██████████| 1/1 [00:00<00:00, 1001.27it/s]\n"
     ]
    }
   ],
   "source": [
    "from libs.pokemon_home import pokemon_home\n",
    "import pandas as pd\n",
    "\n",
    "home = pokemon_home(\"./asset/\")\n",
    "rule_id = 1 if rule == \"single\" else 2\n",
    "home.request_parameters_from_season_info(season, rule_id)\n",
    "pokemon_ranking = home.output_pokemon_ranking()\n",
    "move, ability, item, teratype = home.output_pokemon_detail()\n",
    "df_pokemon_ranking = pd.DataFrame(pokemon_ranking, columns=['id', 'form_id', 'pokemon'])\n",
    "df_move = pd.DataFrame(move, columns=[\"pokemon\", \"id\", \"form\", \"rank\", \"move\", \"raito\"])\n",
    "df_ability = pd.DataFrame(ability, columns=[\"pokemon\", \"id\", \"form\", \"rank\", \"ability\", \"raito\"])\n",
    "df_item = pd.DataFrame(item, columns=[\"pokemon\", \"id\", \"form\", \"rank\", \"item\", \"raito\"])\n",
    "df_teratype = pd.DataFrame(teratype, columns=[\"pokemon\", \"id\", \"form\", \"rank\", \"tarastype\", \"raito\"])"
   ]
  },
  {
   "cell_type": "code",
   "execution_count": 4,
   "metadata": {},
   "outputs": [
    {
     "name": "stdout",
     "output_type": "stream",
     "text": [
      "ポケモンランキング\n",
      "   id  form_id pokemon\n",
      "0   1        0   サーフゴー\n",
      "1   2        0  マスカーニャ\n",
      "2   3        0   サザンドラ\n",
      "3   4        0   ヤミカラス\n",
      "4   5        0   ガブリアス\n",
      "技割合\n",
      "  pokemon  id form  rank    move raito\n",
      "0   ピカチュウ  25    0     1   ねこだまし  84.5\n",
      "1   ピカチュウ  25    0     2     まもる  62.1\n",
      "2   ピカチュウ  25    0     3    かみなり  38.3\n",
      "3   ピカチュウ  25    0     4  テラバースト  37.9\n",
      "4   ピカチュウ  25    0     5  ボルテッカー  29.7\n",
      "特性割合\n",
      "  pokemon  id form  rank  ability raito\n",
      "0   ピカチュウ  25    0     1    ひらいしん  88.2\n",
      "1   ピカチュウ  25    0     2    せいでんき  11.8\n",
      "2   ライチュウ  26    0     1    ひらいしん  90.2\n",
      "3   ライチュウ  26    0     2    せいでんき   9.8\n",
      "4     プリン  39    0     1  フレンドガード  99.6\n",
      "アイテム割合\n",
      "  pokemon  id form  rank     item raito\n",
      "0   ピカチュウ  25    0     1    でんきだま  88.9\n",
      "1   ピカチュウ  25    0     2  しんかのきせき  10.7\n",
      "2   ピカチュウ  25    0     3  きあいのタスキ   0.2\n",
      "3   ピカチュウ  25    0     4     ふうせん   0.2\n",
      "4   ライチュウ  26    0     1  きあいのタスキ  42.1\n",
      "テラスタイプ割合\n",
      "  pokemon  id form  rank tarastype raito\n",
      "0   ピカチュウ  25    0     1       ひこう  57.9\n",
      "1   ピカチュウ  25    0     2       でんき  23.4\n",
      "2   ピカチュウ  25    0     3        みず   5.8\n",
      "3   ピカチュウ  25    0     4       こおり   5.3\n",
      "4   ピカチュウ  25    0     5        くさ   2.1\n"
     ]
    }
   ],
   "source": [
    "#各種データが取得できているか確認する場合は実行して下さい。\n",
    "#各データの先頭5行を表示します。\n",
    "print(\"ポケモンランキング\")\n",
    "print(df_pokemon_ranking.head(5))\n",
    "print(\"技割合\")\n",
    "print(df_move.head(5))\n",
    "print(\"特性割合\")\n",
    "print(df_ability.head(5))\n",
    "print(\"アイテム割合\")\n",
    "print(df_item.head(5))\n",
    "print(\"テラスタイプ割合\")\n",
    "print(df_teratype.head(5))"
   ]
  },
  {
   "attachments": {},
   "cell_type": "markdown",
   "metadata": {},
   "source": [
    "## 取得したデータの保存\n",
    "取得したデータをGoogle DriveにCSVとして保存したい場合は以下を実行してください。"
   ]
  },
  {
   "cell_type": "code",
   "execution_count": null,
   "metadata": {},
   "outputs": [],
   "source": [
    "from google.colab import drive\n",
    "drive.mount('/content/drive')"
   ]
  },
  {
   "cell_type": "code",
   "execution_count": null,
   "metadata": {},
   "outputs": [],
   "source": [
    "#必要に応じて\"./drive/MyDrive/poke_home_item.csv\"の部分を変更してください。この設定だと、おそらく接続したGoogle Driveのトップページに保存されます。\n",
    "#もしdataというフォルダの中に保存したい場合は、\"./drive/MyDrive/data/poke_home_item.csv\"とすればよいはずです。\n",
    "df_pokemon_ranking.to_csv(\"./drive/MyDrive/pokemon_ranking.csv\",encoding=\"shift-jis\", index = False)\n",
    "df_move.to_csv(\"./drive/MyDrive/move.csv\",encoding=\"shift-jis\", index = False)\n",
    "df_ability.to_csv(\"./drive/MyDrive/ability.csv\",encoding=\"shift-jis\", index = False)\n",
    "df_item.to_csv(\"./drive/MyDrive/item.csv\",encoding=\"shift-jis\", index = False)\n",
    "df_teratype.to_csv(\"./drive/MyDrive/teratype.csv\",encoding=\"shift-jis\", index = False)"
   ]
  }
 ],
 "metadata": {
  "kernelspec": {
   "display_name": "env",
   "language": "python",
   "name": "python3"
  },
  "language_info": {
   "codemirror_mode": {
    "name": "ipython",
    "version": 3
   },
   "file_extension": ".py",
   "mimetype": "text/x-python",
   "name": "python",
   "nbconvert_exporter": "python",
   "pygments_lexer": "ipython3",
   "version": "3.10.10"
  },
  "orig_nbformat": 4,
  "vscode": {
   "interpreter": {
    "hash": "8c428536766dadcb68918e5135d63ea4d138d677d314eb4908f4a7f05f24bd11"
   }
  }
 },
 "nbformat": 4,
 "nbformat_minor": 2
}
