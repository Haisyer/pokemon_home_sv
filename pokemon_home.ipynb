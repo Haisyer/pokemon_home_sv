{
 "cells": [
  {
   "attachments": {},
   "cell_type": "markdown",
   "metadata": {},
   "source": [
    "[![Open In Colab](https://colab.research.google.com/assets/colab-badge.svg)](https://colab.research.google.com/github/okuokuch/pokemon_home_sv/blob/main/pokemon_home.ipynb)"
   ]
  },
  {
   "attachments": {},
   "cell_type": "markdown",
   "metadata": {},
   "source": [
    "## ポケモンHOMEのSVランクバトルデータ取得\n",
    "Google Colab上でポケモンHOMEのデータを取得しCSVファイルとして保存することができます。  \n",
    "Google Driveと連携することで、Drive上にCSVファイルを保存することができます。"
   ]
  },
  {
   "attachments": {},
   "cell_type": "markdown",
   "metadata": {},
   "source": [
    "GitHubからデータを取得"
   ]
  },
  {
   "cell_type": "code",
   "execution_count": null,
   "metadata": {},
   "outputs": [],
   "source": [
    "!git clone https://github.com/okuokuch/pokemon_home_sv.git"
   ]
  },
  {
   "cell_type": "code",
   "execution_count": null,
   "metadata": {},
   "outputs": [],
   "source": [
    "#データを取得したいシーズンとルールを設定\n",
    "season = 1 #@param {type:\"integer\"}\n",
    "rule = \"single\" #@param [\"single\", \"duble\"]"
   ]
  },
  {
   "cell_type": "code",
   "execution_count": null,
   "metadata": {},
   "outputs": [],
   "source": [
    "from pokemon_home_sv.libs.pokemon_home import pokemon_home\n",
    "import pandas as pd\n",
    "\n",
    "home = pokemon_home(\"./pokemon_home_sv/asset/\")\n",
    "rule_id = 1 if rule == \"single\" else 2\n",
    "home.request_parameters_from_season_info(season, rule_id)\n",
    "pokemon_ranking = home.output_pokemon_ranking()\n",
    "move, ability, item, teratype = home.output_pokemon_detail()\n",
    "df_pokemon_ranking = pd.DataFrame(pokemon_ranking, columns=['id', 'form_id', 'pokemon'])\n",
    "df_move = pd.DataFrame(move, columns=[\"pokemon\", \"id\", \"form\", \"rank\", \"move\", \"raito\"])\n",
    "df_ability = pd.DataFrame(ability, columns=[\"pokemon\", \"id\", \"form\", \"rank\", \"ability\", \"raito\"])\n",
    "df_item = pd.DataFrame(item, columns=[\"pokemon\", \"id\", \"form\", \"rank\", \"item\", \"raito\"])\n",
    "df_teratype = pd.DataFrame(teratype, columns=[\"pokemon\", \"id\", \"form\", \"rank\", \"tarastype\", \"raito\"])"
   ]
  },
  {
   "cell_type": "code",
   "execution_count": null,
   "metadata": {},
   "outputs": [],
   "source": [
    "#各種データが取得できているか確認する場合は実行して下さい。\n",
    "#各データの先頭5行を表示します。\n",
    "print(\"ポケモンランキング\")\n",
    "print(df_pokemon_ranking.head(5))\n",
    "print(\"技割合\")\n",
    "print(df_move.head(5))\n",
    "print(\"特性割合\")\n",
    "print(df_ability.head(5))\n",
    "print(\"アイテム割合\")\n",
    "print(df_item.head(5))\n",
    "print(\"テラスタイプ割合\")\n",
    "print(df_teratype.head(5))"
   ]
  },
  {
   "attachments": {},
   "cell_type": "markdown",
   "metadata": {},
   "source": [
    "## 取得したデータの保存\n",
    "取得したデータをGoogle DriveにCSVとして保存したい場合は以下を実行してください。"
   ]
  },
  {
   "cell_type": "code",
   "execution_count": null,
   "metadata": {},
   "outputs": [],
   "source": [
    "from google.colab import drive\n",
    "drive.mount('/content/drive')"
   ]
  },
  {
   "cell_type": "code",
   "execution_count": null,
   "metadata": {},
   "outputs": [],
   "source": [
    "#必要に応じて\"./drive/MyDrive/poke_home_item.csv\"の部分を変更してください。この設定だと、おそらく接続したGoogle Driveのトップページに保存されます。\n",
    "#もしdataというフォルダの中に保存したい場合は、\"./drive/MyDrive/data/poke_home_item.csv\"とすればよいはずです。\n",
    "df_pokemon_ranking.to_csv(\"./drive/MyDrive/pokemon_ranking.csv\",encoding=\"shift-jis\", index = False)\n",
    "df_move.to_csv(\"./drive/MyDrive/move.csv\",encoding=\"shift-jis\", index = False)\n",
    "df_ability.to_csv(\"./drive/MyDrive/ability.csv\",encoding=\"shift-jis\", index = False)\n",
    "df_item.to_csv(\"./drive/MyDrive/item.csv\",encoding=\"shift-jis\", index = False)\n",
    "df_teratype.to_csv(\"./drive/MyDrive/teratype.csv\",encoding=\"shift-jis\", index = False)"
   ]
  }
 ],
 "metadata": {
  "kernelspec": {
   "display_name": "env",
   "language": "python",
   "name": "python3"
  },
  "language_info": {
   "codemirror_mode": {
    "name": "ipython",
    "version": 3
   },
   "file_extension": ".py",
   "mimetype": "text/x-python",
   "name": "python",
   "nbconvert_exporter": "python",
   "pygments_lexer": "ipython3",
   "version": "3.10.10"
  },
  "orig_nbformat": 4,
  "vscode": {
   "interpreter": {
    "hash": "8c428536766dadcb68918e5135d63ea4d138d677d314eb4908f4a7f05f24bd11"
   }
  }
 },
 "nbformat": 4,
 "nbformat_minor": 2
}
